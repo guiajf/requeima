{
 "cells": [
  {
   "cell_type": "markdown",
   "id": "b6159270-7138-4192-9d84-225125bb3941",
   "metadata": {},
   "source": [
    "# Fenotipagem de tomateiro resistente à requeima"
   ]
  },
  {
   "cell_type": "markdown",
   "id": "fb80969a-b54e-4389-af2b-872f0da7ea14",
   "metadata": {},
   "source": [
    "## Introdução"
   ]
  },
  {
   "cell_type": "markdown",
   "id": "5c6aac25-689f-4d24-b357-3f25c70a2010",
   "metadata": {},
   "source": [
    "A fenotipagem é o processo de avaliação de características mensuráveis, como peso, formato dos frutos e estruturas vegetais. O uso de imagens capturadas em diferentes regiões do espectro eletromagnético permite estimar medidas essenciais, como altura, largura e número de folhas, para monitorar o crescimento vegetativo.\n",
    "\n",
    "A requeima, ou *mela*, é uma doença causada pelo oomiceto *Phytophthora infestans*, que afeta culturas de tomate. Embora possa causar a perda total da cultura, existem cultivares resistentes à doença. Experimentos com diferentes variedades podem avaliar a severidade da requeima em diversas cultivares, utilizando imagens de drone.\n",
    "\n",
    "De acordo com o Código Internacional de Nomenclatura de Plantas Cultivadas (**ICNCP**), uma cultivar é definida como um \"*conjunto de plantas selecionado por atributos específicos ou combinação de atributos*\". Dada a variedade de cultivares disponíveis, um experimento foi conduzido com o uso de imagens de drone, que foram processadas e analisadas com ferramentas de *machine learning* para economizar tempo e recursos.\n",
    "\n",
    "Uma câmera multiespectral **MicaSense**, equipada com cinco bandas espectrais (RGB, infravermelho próximo (NIR) e Red Edge), foi utilizada para capturar as imagens. Os índices de vegetação, calculados a partir dessas bandas espectrais, foram processados e resultaram no *dataset* utilizado para prever a severidade da requeima.\n"
   ]
  },
  {
   "cell_type": "markdown",
   "id": "619887d0-cf79-4919-b201-c7082393373d",
   "metadata": {},
   "source": [
    "## Análise preditiva"
   ]
  },
  {
   "cell_type": "markdown",
   "id": "56a78b9b-4b69-4944-b100-e5f1bd8401bc",
   "metadata": {},
   "source": [
    "### Importamos as bibliotecas"
   ]
  },
  {
   "cell_type": "code",
   "execution_count": 113,
   "id": "84493c54-2d74-4c97-8e56-131220b09e40",
   "metadata": {},
   "outputs": [],
   "source": [
    "import numpy as np\n",
    "import pandas as pd\n",
    "import matplotlib.pyplot as plt\n",
    "\n",
    "from sklearn.preprocessing import StandardScaler \n",
    "from sklearn.model_selection import train_test_split \n",
    "from sklearn.neighbors import KNeighborsRegressor \n",
    "from sklearn.linear_model import LinearRegression \n",
    "from sklearn.ensemble import RandomForestRegressor, HistGradientBoostingRegressor \n",
    "from sklearn.tree import DecisionTreeRegressor \n",
    "from sklearn.svm import SVR \n",
    "from sklearn.model_selection import cross_val_score \n",
    "from sklearn.metrics import mean_squared_error, mean_absolute_error, r2_score \n",
    "from sklearn.feature_selection import RFE "
   ]
  },
  {
   "cell_type": "markdown",
   "id": "481c7009-2cbb-401a-aef0-2e0f8e5c2f14",
   "metadata": {},
   "source": [
    "### Carregamos o dataset"
   ]
  },
  {
   "cell_type": "code",
   "execution_count": 87,
   "id": "b572afef-bcbd-4df6-9b98-509061642a78",
   "metadata": {},
   "outputs": [],
   "source": [
    "df = pd.read_csv('dataset_sintetico.csv')\n",
    "\n",
    "X = df.drop(['id', 'Severidade'], axis = 1)\n",
    "Y = df['Severidade']"
   ]
  },
  {
   "cell_type": "markdown",
   "id": "fa455e88-3409-45db-9d52-b070f0a02319",
   "metadata": {},
   "source": [
    "### Extraímos uma amostra dos dados"
   ]
  },
  {
   "cell_type": "code",
   "execution_count": 88,
   "id": "53105cc1-b171-42a6-8598-a63bf4d908b2",
   "metadata": {},
   "outputs": [
    {
     "data": {
      "text/html": [
       "<div>\n",
       "<style scoped>\n",
       "    .dataframe tbody tr th:only-of-type {\n",
       "        vertical-align: middle;\n",
       "    }\n",
       "\n",
       "    .dataframe tbody tr th {\n",
       "        vertical-align: top;\n",
       "    }\n",
       "\n",
       "    .dataframe thead th {\n",
       "        text-align: right;\n",
       "    }\n",
       "</style>\n",
       "<table border=\"1\" class=\"dataframe\">\n",
       "  <thead>\n",
       "    <tr style=\"text-align: right;\">\n",
       "      <th></th>\n",
       "      <th>id</th>\n",
       "      <th>NDVI_d22</th>\n",
       "      <th>SAVI_d22</th>\n",
       "      <th>GNDVI_d22</th>\n",
       "      <th>MCARI1_d22</th>\n",
       "      <th>SR_d22</th>\n",
       "      <th>NDVI_d01</th>\n",
       "      <th>SAVI_d01</th>\n",
       "      <th>GNDVI_d01</th>\n",
       "      <th>MCARI1_d01</th>\n",
       "      <th>...</th>\n",
       "      <th>SAVI_d15</th>\n",
       "      <th>GNDVI_d15</th>\n",
       "      <th>MCARI1_d15</th>\n",
       "      <th>SR_d15</th>\n",
       "      <th>NDVI_d08</th>\n",
       "      <th>SAVI_d08</th>\n",
       "      <th>GNDVI_d08</th>\n",
       "      <th>MCARI1_d08</th>\n",
       "      <th>SR_d08</th>\n",
       "      <th>Severidade</th>\n",
       "    </tr>\n",
       "  </thead>\n",
       "  <tbody>\n",
       "    <tr>\n",
       "      <th>0</th>\n",
       "      <td>2</td>\n",
       "      <td>0.806955</td>\n",
       "      <td>1.210392</td>\n",
       "      <td>0.705323</td>\n",
       "      <td>19513.85630</td>\n",
       "      <td>10.557411</td>\n",
       "      <td>0.774359</td>\n",
       "      <td>1.161514</td>\n",
       "      <td>0.717367</td>\n",
       "      <td>30041.91766</td>\n",
       "      <td>...</td>\n",
       "      <td>1.166604</td>\n",
       "      <td>0.680269</td>\n",
       "      <td>22731.09954</td>\n",
       "      <td>8.380453</td>\n",
       "      <td>0.725521</td>\n",
       "      <td>1.088240</td>\n",
       "      <td>0.669113</td>\n",
       "      <td>16190.82038</td>\n",
       "      <td>6.491860</td>\n",
       "      <td>37.83</td>\n",
       "    </tr>\n",
       "    <tr>\n",
       "      <th>1</th>\n",
       "      <td>10</td>\n",
       "      <td>0.789403</td>\n",
       "      <td>1.184062</td>\n",
       "      <td>0.688353</td>\n",
       "      <td>17859.92417</td>\n",
       "      <td>9.527958</td>\n",
       "      <td>0.757559</td>\n",
       "      <td>1.136312</td>\n",
       "      <td>0.706716</td>\n",
       "      <td>26529.38283</td>\n",
       "      <td>...</td>\n",
       "      <td>1.106409</td>\n",
       "      <td>0.653475</td>\n",
       "      <td>17483.16681</td>\n",
       "      <td>7.039555</td>\n",
       "      <td>0.701538</td>\n",
       "      <td>1.052262</td>\n",
       "      <td>0.651048</td>\n",
       "      <td>13607.31327</td>\n",
       "      <td>5.889840</td>\n",
       "      <td>46.07</td>\n",
       "    </tr>\n",
       "    <tr>\n",
       "      <th>2</th>\n",
       "      <td>12</td>\n",
       "      <td>0.806006</td>\n",
       "      <td>1.208966</td>\n",
       "      <td>0.698522</td>\n",
       "      <td>18325.86796</td>\n",
       "      <td>10.450621</td>\n",
       "      <td>0.776762</td>\n",
       "      <td>1.165121</td>\n",
       "      <td>0.712256</td>\n",
       "      <td>35348.89095</td>\n",
       "      <td>...</td>\n",
       "      <td>1.136947</td>\n",
       "      <td>0.663469</td>\n",
       "      <td>18970.25945</td>\n",
       "      <td>7.691801</td>\n",
       "      <td>0.721819</td>\n",
       "      <td>1.082688</td>\n",
       "      <td>0.654506</td>\n",
       "      <td>16312.51025</td>\n",
       "      <td>6.385158</td>\n",
       "      <td>38.38</td>\n",
       "    </tr>\n",
       "    <tr>\n",
       "      <th>3</th>\n",
       "      <td>20</td>\n",
       "      <td>0.778408</td>\n",
       "      <td>1.167566</td>\n",
       "      <td>0.674224</td>\n",
       "      <td>16130.88569</td>\n",
       "      <td>9.135821</td>\n",
       "      <td>0.755313</td>\n",
       "      <td>1.132947</td>\n",
       "      <td>0.697300</td>\n",
       "      <td>30860.23050</td>\n",
       "      <td>...</td>\n",
       "      <td>1.097415</td>\n",
       "      <td>0.648051</td>\n",
       "      <td>15867.27075</td>\n",
       "      <td>6.888080</td>\n",
       "      <td>0.723709</td>\n",
       "      <td>1.085521</td>\n",
       "      <td>0.659776</td>\n",
       "      <td>15024.84460</td>\n",
       "      <td>6.503054</td>\n",
       "      <td>38.15</td>\n",
       "    </tr>\n",
       "    <tr>\n",
       "      <th>4</th>\n",
       "      <td>46</td>\n",
       "      <td>0.777937</td>\n",
       "      <td>1.166863</td>\n",
       "      <td>0.670604</td>\n",
       "      <td>17315.57673</td>\n",
       "      <td>8.797762</td>\n",
       "      <td>0.765304</td>\n",
       "      <td>1.147933</td>\n",
       "      <td>0.699105</td>\n",
       "      <td>30874.50847</td>\n",
       "      <td>...</td>\n",
       "      <td>1.165921</td>\n",
       "      <td>0.678815</td>\n",
       "      <td>23387.23253</td>\n",
       "      <td>8.498031</td>\n",
       "      <td>0.782553</td>\n",
       "      <td>1.173796</td>\n",
       "      <td>0.707183</td>\n",
       "      <td>22071.41814</td>\n",
       "      <td>8.726001</td>\n",
       "      <td>2.91</td>\n",
       "    </tr>\n",
       "  </tbody>\n",
       "</table>\n",
       "<p>5 rows × 22 columns</p>\n",
       "</div>"
      ],
      "text/plain": [
       "   id  NDVI_d22  SAVI_d22  GNDVI_d22   MCARI1_d22     SR_d22  NDVI_d01  \\\n",
       "0   2  0.806955  1.210392   0.705323  19513.85630  10.557411  0.774359   \n",
       "1  10  0.789403  1.184062   0.688353  17859.92417   9.527958  0.757559   \n",
       "2  12  0.806006  1.208966   0.698522  18325.86796  10.450621  0.776762   \n",
       "3  20  0.778408  1.167566   0.674224  16130.88569   9.135821  0.755313   \n",
       "4  46  0.777937  1.166863   0.670604  17315.57673   8.797762  0.765304   \n",
       "\n",
       "   SAVI_d01  GNDVI_d01   MCARI1_d01  ...  SAVI_d15  GNDVI_d15   MCARI1_d15  \\\n",
       "0  1.161514   0.717367  30041.91766  ...  1.166604   0.680269  22731.09954   \n",
       "1  1.136312   0.706716  26529.38283  ...  1.106409   0.653475  17483.16681   \n",
       "2  1.165121   0.712256  35348.89095  ...  1.136947   0.663469  18970.25945   \n",
       "3  1.132947   0.697300  30860.23050  ...  1.097415   0.648051  15867.27075   \n",
       "4  1.147933   0.699105  30874.50847  ...  1.165921   0.678815  23387.23253   \n",
       "\n",
       "     SR_d15  NDVI_d08  SAVI_d08  GNDVI_d08   MCARI1_d08    SR_d08  Severidade  \n",
       "0  8.380453  0.725521  1.088240   0.669113  16190.82038  6.491860       37.83  \n",
       "1  7.039555  0.701538  1.052262   0.651048  13607.31327  5.889840       46.07  \n",
       "2  7.691801  0.721819  1.082688   0.654506  16312.51025  6.385158       38.38  \n",
       "3  6.888080  0.723709  1.085521   0.659776  15024.84460  6.503054       38.15  \n",
       "4  8.498031  0.782553  1.173796   0.707183  22071.41814  8.726001        2.91  \n",
       "\n",
       "[5 rows x 22 columns]"
      ]
     },
     "execution_count": 88,
     "metadata": {},
     "output_type": "execute_result"
    }
   ],
   "source": [
    "df.head()"
   ]
  },
  {
   "cell_type": "markdown",
   "id": "aadfd512-5e18-415a-8d56-33137cd7803a",
   "metadata": {},
   "source": [
    "### Funções para ajuste dos modelos"
   ]
  },
  {
   "cell_type": "code",
   "execution_count": 89,
   "id": "937a1407-f344-40b0-8398-ae59b0ebab0f",
   "metadata": {},
   "outputs": [],
   "source": [
    "def scale_dataset(dataframe, oversample=False):\n",
    "    X = dataframe[dataframe.columns[:-1]].values\n",
    "    y = dataframe[dataframe.columns[-1]].values\n",
    "    \n",
    "    scaler = StandardScaler()\n",
    "    X = scaler.fit_transform(X)\n",
    "    \n",
    "    data = np.hstack((X, np.reshape(y, (-1, 1))))\n",
    "    \n",
    "    return data, X, y"
   ]
  },
  {
   "cell_type": "code",
   "execution_count": 90,
   "id": "839c7e36-8f65-4002-a10f-8555762031e5",
   "metadata": {},
   "outputs": [],
   "source": [
    "def knn_regressor():\n",
    "    neigh_score = []\n",
    "    for i in range(1, 30):\n",
    "        knn = KNeighborsRegressor(n_neighbors=i)\n",
    "        knn.fit(X_train, Y_train)\n",
    "        pred = knn.predict(X_test)\n",
    "        score = (mean_squared_error(Y_test, pred)**0.5)\n",
    "        neigh_score.append((i, score))\n",
    "    \n",
    "    # Seleciona o k com o menor erro\n",
    "    k = min(neigh_score, key=lambda x: x[1])[0]\n",
    "    knn = KNeighborsRegressor(n_neighbors=k)\n",
    "    return knn"
   ]
  },
  {
   "cell_type": "code",
   "execution_count": 91,
   "id": "bc67d650-e4de-4c9f-8a26-366150be69c0",
   "metadata": {},
   "outputs": [],
   "source": [
    "def svr_regressor():\n",
    "    svr_scores = []\n",
    "    for c in [0.01, 0.1, 1, 10, 100]:\n",
    "        svr = SVR(C=c)\n",
    "        svr.fit(X_train, Y_train)\n",
    "        pred = svr.predict(X_test)\n",
    "        score = mean_squared_error(Y_test, pred)\n",
    "        svr_scores.append((c, score))\n",
    "    \n",
    "    # Seleciona o C com o menor erro\n",
    "    best_c = min(svr_scores, key=lambda x: x[1])[0]\n",
    "    svr = SVR(C=best_c)\n",
    "    return svr"
   ]
  },
  {
   "cell_type": "code",
   "execution_count": 92,
   "id": "140b8a07-8b93-415f-b6b1-fd6743776bf9",
   "metadata": {},
   "outputs": [],
   "source": [
    "def decision_tree_regressor():\n",
    "    tree_scores = []\n",
    "    for depth in range(1, 30):\n",
    "        tree = DecisionTreeRegressor(max_depth=depth)\n",
    "        tree.fit(X_train, Y_train)\n",
    "        pred = tree.predict(X_test)\n",
    "        score = mean_squared_error(Y_test, pred)\n",
    "        tree_scores.append((depth, score))\n",
    "    \n",
    "    # Seleciona a profundidade com o menor erro\n",
    "    best_depth = min(tree_scores, key=lambda x: x[1])[0]\n",
    "    tree = DecisionTreeRegressor(max_depth=best_depth)\n",
    "    return tree"
   ]
  },
  {
   "cell_type": "code",
   "execution_count": 93,
   "id": "4dc5d0b0-e5d0-4eaa-ab59-86baad4c3294",
   "metadata": {},
   "outputs": [],
   "source": [
    "def random_forest_regressor():\n",
    "    forest_scores = []\n",
    "    for n in range(10, 200, 10):\n",
    "        forest = RandomForestRegressor(n_estimators=n)\n",
    "        forest.fit(X_train, Y_train)\n",
    "        pred = forest.predict(X_test)\n",
    "        score = mean_squared_error(Y_test, pred)\n",
    "        forest_scores.append((n, score))\n",
    "    \n",
    "    # Seleciona o número de árvores com o menor erro\n",
    "    best_n = min(forest_scores, key=lambda x: x[1])[0]\n",
    "    forest = RandomForestRegressor(n_estimators=best_n)\n",
    "    return forest"
   ]
  },
  {
   "cell_type": "code",
   "execution_count": 94,
   "id": "5bff90a1-7b95-4f84-9e4d-d80cd500e050",
   "metadata": {},
   "outputs": [],
   "source": [
    "def hist_gradient_boosting_regressor():\n",
    "    hgb_scores = []\n",
    "    for l_rate in [0.01, 0.1, 0.2, 0.3, 0.4, 0.5]:\n",
    "        hgb = HistGradientBoostingRegressor(learning_rate=l_rate)\n",
    "        hgb.fit(X_train, Y_train)\n",
    "        pred = hgb.predict(X_test)\n",
    "        score = mean_squared_error(Y_test, pred)\n",
    "        hgb_scores.append((l_rate, score))\n",
    "    \n",
    "    # Seleciona a taxa de aprendizado com o menor erro\n",
    "    best_rate = min(hgb_scores, key=lambda x: x[1])[0]\n",
    "    hgb = HistGradientBoostingRegressor(learning_rate=best_rate)\n",
    "    return hgb"
   ]
  },
  {
   "cell_type": "code",
   "execution_count": 116,
   "id": "86ba3a4e-46f1-429a-a577-68ecfce3928e",
   "metadata": {},
   "outputs": [],
   "source": [
    "# modelos = {\"Linear\": LinearRegression, \"KNN\": KNeighborsRegressor, \"SVR\": svr_regressor, \"Decision Tree\": DecisionTreeRegressor, \"Random Forest\": RandomForestRegressor, \"HGB\": HistGradientBoostingRegressor }\n",
    "tunning = {\"Linear\": LinearRegression, \"KNN\": knn_regressor, \"SVR\": svr_regressor, \"Decision Tree\": decision_tree_regressor, \"Random Forest\": random_forest_regressor, \"HGB\": hist_gradient_boosting_regressor }"
   ]
  },
  {
   "cell_type": "markdown",
   "id": "e58be991-eb9e-43e6-80b4-737a1ad2b86c",
   "metadata": {},
   "source": [
    "### Separamos os dados de treinamento e teste"
   ]
  },
  {
   "cell_type": "code",
   "execution_count": 96,
   "id": "1e870cc1-40b6-4f31-b32f-80105e223cf0",
   "metadata": {},
   "outputs": [],
   "source": [
    "X_train, X_test, Y_train, Y_test = train_test_split(X, Y, test_size=0.2, random_state=0)"
   ]
  },
  {
   "cell_type": "markdown",
   "id": "4039a6a2-c2d4-40ce-b31f-602579fdbdfb",
   "metadata": {},
   "source": [
    "### Ajuste dos modelos sem pre-processamento ou seleção de \"features\""
   ]
  },
  {
   "cell_type": "code",
   "execution_count": 103,
   "id": "fc6c1054-1280-4129-a5ab-9426c9a80071",
   "metadata": {},
   "outputs": [
    {
     "name": "stdout",
     "output_type": "stream",
     "text": [
      "Modelo Linear\n",
      "0.8417215780173016\n",
      "=======================================\n",
      "KNN\n",
      "0.7544301598879973\n",
      "=======================================\n",
      "SVR\n",
      "0.7283238256537258\n",
      "=======================================\n",
      "Decision Tree\n",
      "0.6043537834888687\n",
      "=======================================\n",
      "Random Forest\n",
      "0.8442266652601512\n",
      "=======================================\n",
      "HGB\n",
      "0.7665020843799575\n",
      "=======================================\n"
     ]
    }
   ],
   "source": [
    "# modelo = LinearRegression()\n",
    "for name in tunning:\n",
    "    model = tunning[name]()\n",
    "    model.fit(X_train, Y_train).predict(X_train)\n",
    "    \n",
    "    print(name)\n",
    "    score = cross_val_score(model, X_train, Y_train, cv = 10, scoring='r2')\n",
    "    print(np.mean(score))\n",
    "    print(\"=======================================\")\n",
    "    \n",
    "    # plt.plot(fpr, tpr, label='%s (area = %0.2f)' % (name, roc_auc))\n",
    "    # print(X.shape)()\n"
   ]
  },
  {
   "cell_type": "markdown",
   "id": "d2d531db-9158-47a8-b94b-01b1ba0aeb8f",
   "metadata": {},
   "source": [
    "### Função para seleção de \"features\""
   ]
  },
  {
   "cell_type": "code",
   "execution_count": 111,
   "id": "88f47847-f2e7-4bea-b27f-9a22ba18d8f0",
   "metadata": {},
   "outputs": [],
   "source": [
    "\n",
    "def best_k(X, Y):\n",
    "    err = float('inf')\n",
    "    best_val = 0\n",
    "    \n",
    "    for i in range(1, X.shape[1] + 1):\n",
    "        model = LinearRegression()\n",
    "        selector = RFE(model, n_features_to_select=i)\n",
    "        X_new = selector.fit_transform(X, Y)\n",
    "        \n",
    "        scores = cross_val_score(model, X_new, Y, cv=10, scoring='neg_mean_squared_error')\n",
    "        mse = -scores.mean()\n",
    "        \n",
    "        if mse < err:\n",
    "            err = mse\n",
    "            best_val = i\n",
    "          \n",
    "    return best_val\n"
   ]
  },
  {
   "cell_type": "markdown",
   "id": "0e0d822d-788f-43ee-bbeb-2aa81d681445",
   "metadata": {},
   "source": [
    "### Ajustes dos modelos com pré-processamento e seleção de \"features\""
   ]
  },
  {
   "cell_type": "code",
   "execution_count": 115,
   "id": "1c079ae3-6cb4-4bf2-a1da-c56911160fb7",
   "metadata": {},
   "outputs": [
    {
     "name": "stdout",
     "output_type": "stream",
     "text": [
      "Model: Modelo Linear, Mean R2 Score: 0.7850270627975064\n",
      "Model: KNN, Mean R2 Score: 0.8590771136164085\n",
      "Model: SVR, Mean R2 Score: 0.7869646771349614\n",
      "Model: Decision Tree, Mean R2 Score: 0.7055605805910499\n",
      "Model: Random Forest, Mean R2 Score: 0.8320267115668851\n",
      "Model: HGB, Mean R2 Score: 0.3188519070274789\n",
      "=======================================\n",
      "Melhor modelo: KNN apresentou R2: 0.8590771136164085\n"
     ]
    }
   ],
   "source": [
    "# Padronizando os dados\n",
    "X = StandardScaler().fit_transform(X)\n",
    "\n",
    "# Seleção de features usando a função best_k\n",
    "K = best_k(X, Y)\n",
    "selector = RFE(LinearRegression(), n_features_to_select=K)\n",
    "X_new = selector.fit_transform(X, Y)\n",
    "\n",
    "# Divisão os dados em treino e teste\n",
    "X_train, X_test, Y_train, Y_test = train_test_split(X_new, Y, train_size=0.7)\n",
    "\n",
    "# Treinamento e validação cruzada para seleção do melhor modelo\n",
    "best_score = -float('inf')\n",
    "best_model_name = None\n",
    "best_model = None\n",
    "\n",
    "for name in tunning:\n",
    "    model = tunning[name]()\n",
    "    scores = cross_val_score(model, X_train, Y_train, cv=10, scoring='r2')\n",
    "    mean_score = scores.mean()\n",
    "    \n",
    "    print(f'Modelo: {name}, Média R2: {mean_score}')\n",
    "    \n",
    "    if mean_score > best_score:\n",
    "        best_score = mean_score\n",
    "        best_model_name = name\n",
    "        best_model = model\n",
    "\n",
    "print(\"=======================================\")\n",
    "print(f\"Melhor modelo: {best_model_name} apresentou R2: {best_score}\")\n"
   ]
  },
  {
   "cell_type": "markdown",
   "id": "33b6c940-4ea8-4222-92da-a87acde2de94",
   "metadata": {},
   "source": [
    "# Avaliação do melhor modelo no conjunto de teste"
   ]
  },
  {
   "cell_type": "code",
   "execution_count": 118,
   "id": "19f04f8d-d07a-485e-b3fc-a878cafa37b2",
   "metadata": {},
   "outputs": [
    {
     "name": "stdout",
     "output_type": "stream",
     "text": [
      "Avaliação do modelo final com os dados de teste\n",
      "r2: 0.9623229358546539\n",
      "mse: 4.757336912601418\n",
      "mae: 3.79435\n"
     ]
    }
   ],
   "source": [
    "best_model.fit(X_train, Y_train)\n",
    "y_pred = best_model.predict(X_test)\n",
    "\n",
    "r2 = r2_score(Y_test, y_pred)\n",
    "mse = (mean_squared_error(Y_test, y_pred))**0.5\n",
    "mae = mean_absolute_error(Y_test, y_pred)\n",
    "\n",
    "print(\"Avaliação do modelo final com os dados de teste\")\n",
    "print('r2:', r2)\n",
    "print('mse:', mse)\n",
    "print('mae:', mae)\n"
   ]
  }
 ],
 "metadata": {
  "kernelspec": {
   "display_name": "Python 3 (ipykernel)",
   "language": "python",
   "name": "python3"
  },
  "language_info": {
   "codemirror_mode": {
    "name": "ipython",
    "version": 3
   },
   "file_extension": ".py",
   "mimetype": "text/x-python",
   "name": "python",
   "nbconvert_exporter": "python",
   "pygments_lexer": "ipython3",
   "version": "3.10.12"
  }
 },
 "nbformat": 4,
 "nbformat_minor": 5
}
